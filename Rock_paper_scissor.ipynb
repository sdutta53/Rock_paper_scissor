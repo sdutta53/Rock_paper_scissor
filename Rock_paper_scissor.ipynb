{
 "cells": [
  {
   "cell_type": "code",
   "execution_count": 2,
   "metadata": {},
   "outputs": [],
   "source": [
    "import tensorflow as tf\n",
    "from tensorflow.keras.preprocessing.image import ImageDataGenerator"
   ]
  },
  {
   "cell_type": "code",
   "execution_count": 3,
   "metadata": {},
   "outputs": [],
   "source": [
    "class myCallback(tf.keras.callbacks.Callback):\n",
    "    def on_epoch_end(self,epoch,logs={}):\n",
    "        if (logs.get('acc')>0.99):\n",
    "            print(\"\\nReached 99% accuracy so cancelling traing!!!...\")\n",
    "            self.model.stop_training=True\n",
    "callbacks=myCallback()"
   ]
  },
  {
   "cell_type": "code",
   "execution_count": 4,
   "metadata": {},
   "outputs": [],
   "source": [
    "model=tf.keras.models.Sequential([\n",
    "    tf.keras.layers.Conv2D(32,(3,3),activation=\"relu\",input_shape=(150,150,3)),\n",
    "    tf.keras.layers.MaxPooling2D(2,2),\n",
    "    tf.keras.layers.Conv2D(64,(3,3),activation=\"relu\"),\n",
    "    tf.keras.layers.MaxPooling2D(2,2),\n",
    "    tf.keras.layers.Conv2D(64,(3,3),activation=\"relu\"),\n",
    "    tf.keras.layers.MaxPooling2D(2,2),\n",
    "    tf.keras.layers.Flatten(),\n",
    "    tf.keras.layers.Dense(256,activation=\"relu\"),\n",
    "    tf.keras.layers.Dense(3,activation=\"softmax\")\n",
    "])"
   ]
  },
  {
   "cell_type": "code",
   "execution_count": 5,
   "metadata": {},
   "outputs": [
    {
     "name": "stdout",
     "output_type": "stream",
     "text": [
      "_________________________________________________________________\n",
      "Layer (type)                 Output Shape              Param #   \n",
      "=================================================================\n",
      "conv2d (Conv2D)              (None, 148, 148, 32)      896       \n",
      "_________________________________________________________________\n",
      "max_pooling2d (MaxPooling2D) (None, 74, 74, 32)        0         \n",
      "_________________________________________________________________\n",
      "conv2d_1 (Conv2D)            (None, 72, 72, 64)        18496     \n",
      "_________________________________________________________________\n",
      "max_pooling2d_1 (MaxPooling2 (None, 36, 36, 64)        0         \n",
      "_________________________________________________________________\n",
      "conv2d_2 (Conv2D)            (None, 34, 34, 64)        36928     \n",
      "_________________________________________________________________\n",
      "max_pooling2d_2 (MaxPooling2 (None, 17, 17, 64)        0         \n",
      "_________________________________________________________________\n",
      "flatten (Flatten)            (None, 18496)             0         \n",
      "_________________________________________________________________\n",
      "dense (Dense)                (None, 256)               4735232   \n",
      "_________________________________________________________________\n",
      "dense_1 (Dense)              (None, 3)                 771       \n",
      "=================================================================\n",
      "Total params: 4,792,323\n",
      "Trainable params: 4,792,323\n",
      "Non-trainable params: 0\n",
      "_________________________________________________________________\n"
     ]
    }
   ],
   "source": [
    "model.summary()"
   ]
  },
  {
   "cell_type": "code",
   "execution_count": 6,
   "metadata": {},
   "outputs": [],
   "source": [
    "#from tensorflow.keras.optimizers import RMSprop\n",
    "model.compile(optimizer=\"adam\",loss=\"categorical_crossentropy\",metrics=[\"accuracy\"])"
   ]
  },
  {
   "cell_type": "code",
   "execution_count": 7,
   "metadata": {},
   "outputs": [
    {
     "name": "stdout",
     "output_type": "stream",
     "text": [
      "Found 2520 images belonging to 3 classes.\n",
      "Found 33 images belonging to 3 classes.\n"
     ]
    }
   ],
   "source": [
    "datagen=ImageDataGenerator(rescale=1.0/255.0,\n",
    "                          height_shift_range=0.2,\n",
    "                          width_shift_range=0.2,\n",
    "                          zoom_range=0.2,\n",
    "                          fill_mode=\"nearest\")\n",
    "\n",
    "TRAIN_DIR=\"F:/Study Materials/Courses/ML/Rock_paper_scissors/rps/rps\"\n",
    "VALIDATION_DIR=\"F:/Study Materials/Courses/ML/Rock_paper_scissors/rps-validation\"\n",
    "train_generator=datagen.flow_from_directory(TRAIN_DIR,batch_size=20,target_size=(150,150),class_mode=\"categorical\")\n",
    "validation_generator=datagen.flow_from_directory(VALIDATION_DIR,batch_size=20,target_size=(150,150),class_mode=\"categorical\")\n"
   ]
  },
  {
   "cell_type": "code",
   "execution_count": null,
   "metadata": {},
   "outputs": [
    {
     "name": "stdout",
     "output_type": "stream",
     "text": [
      "Epoch 1/20\n",
      "126/126 [==============================] - 150s 1s/step - loss: 0.8710 - acc: 0.5679 - val_loss: 0.6526 - val_acc: 0.7273\n",
      "Epoch 2/20\n",
      "  7/126 [>.............................] - ETA: 2:20 - loss: 0.4953 - acc: 0.7929"
     ]
    }
   ],
   "source": [
    "history=model.fit_generator(train_generator,epochs=20,verbose=1,validation_data=validation_generator,callbacks=[callbacks])"
   ]
  },
  {
   "cell_type": "code",
   "execution_count": 77,
   "metadata": {},
   "outputs": [
    {
     "data": {
      "image/png": "[encoded data removed]",
      "text/plain": [
       "<Figure size 432x288 with 1 Axes>"
      ]
     },
     "metadata": {
      "needs_background": "light"
     },
     "output_type": "display_data"
    }
   ],
   "source": [
    "import matplotlib.pyplot as plt\n",
    "acc=history.history[\"acc\"]\n",
    "loss=history.history[\"loss\"]\n",
    "val_acc=history.history[\"val_acc\"]\n",
    "val_loss=history.history[\"val_loss\"]\n",
    "plt.plot(acc)\n",
    "plt.plot(val_acc)\n",
    "plt.show()"
   ]
  },
  {
   "cell_type": "code",
   "execution_count": 85,
   "metadata": {},
   "outputs": [
    {
     "name": "stdout",
     "output_type": "stream",
     "text": [
      "Scissors\n"
     ]
    }
   ],
   "source": [
    "import os\n",
    "import shutil\n",
    "import numpy as np\n",
    "from shutil import copyfile\n",
    "from tkinter import filedialog\n",
    "from tkinter import *\n",
    "from tensorflow.keras.preprocessing import image\n",
    "\n",
    "root = Tk()\n",
    "files = filedialog.askopenfilenames(parent=root,initialdir = \"F:\\Study Materials\\Courses\\ML\\Rock_paper_scissors\\rps-validation\" , title = \"Select File\")\n",
    "path_list=root.tk.splitlist(files)\n",
    "#print(files)\n",
    "root.destroy()\n",
    "for path in path_list:\n",
    "    img=image.load_img(path, target_size=(150,150))\n",
    "\n",
    "    x=image.img_to_array(img)\n",
    "    x=np.expand_dims(x,axis=0)\n",
    "    images = np.vstack([x])\n",
    "\n",
    "    classes = model.predict(images)\n",
    "    #print(classes)\n",
    "    #print(np.argmax(classes))\n",
    "    switcher={\n",
    "        0: \"Paper\",\n",
    "        1: \"Rock\",\n",
    "        2: \"Scissors\"\n",
    "    }\n",
    "    print (switcher.get(np.argmax(classes)))\n"
   ]
  }
 ],
 "metadata": {
  "kernelspec": {
   "display_name": "Python 3",
   "language": "python",
   "name": "python3"
  },
  "language_info": {
   "codemirror_mode": {
    "name": "ipython",
    "version": 3
   },
   "file_extension": ".py",
   "mimetype": "text/x-python",
   "name": "python",
   "nbconvert_exporter": "python",
   "pygments_lexer": "ipython3",
   "version": "3.6.10"
  }
 },
 "nbformat": 4,
 "nbformat_minor": 4
}
